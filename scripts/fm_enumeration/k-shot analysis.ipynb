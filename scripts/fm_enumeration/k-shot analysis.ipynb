{
 "cells": [
  {
   "cell_type": "code",
   "execution_count": 1,
   "metadata": {
    "collapsed": true
   },
   "outputs": [],
   "source": [
    "import numpy as np\n",
    "import matplotlib.pyplot as plt\n",
    "import seaborn as sns; sns.set_style(\"darkgrid\")\n",
    "%matplotlib inline"
   ]
  },
  {
   "cell_type": "code",
   "execution_count": 2,
   "metadata": {
    "collapsed": true
   },
   "outputs": [],
   "source": [
    "from pathlib import Path"
   ]
  },
  {
   "cell_type": "code",
   "execution_count": 3,
   "metadata": {
    "collapsed": true
   },
   "outputs": [],
   "source": [
    "from collections import defaultdict"
   ]
  },
  {
   "cell_type": "code",
   "execution_count": 4,
   "metadata": {
    "collapsed": true
   },
   "outputs": [],
   "source": [
    "results_path = Path(\"results/\")"
   ]
  },
  {
   "cell_type": "code",
   "execution_count": 5,
   "metadata": {
    "collapsed": false
   },
   "outputs": [],
   "source": [
    "dev_success = defaultdict(list)\n",
    "pt_success = defaultdict(list)\n",
    "\n",
    "for result_path in results_path.iterdir():\n",
    "    name = result_path.name\n",
    "    if name.endswith((\"dev_success\", \"pt_success\")):\n",
    "        k = int(name[:name.index(\".\")])\n",
    "        value = float(result_path.read_text().strip())\n",
    "        if name.endswith(\"dev_success\"):\n",
    "            dev_success[k].append(value)\n",
    "        elif name.endswith(\"pt_success\"):\n",
    "            pt_success[k].append(value)"
   ]
  },
  {
   "cell_type": "code",
   "execution_count": 6,
   "metadata": {
    "collapsed": false
   },
   "outputs": [
    {
     "data": {
      "text/plain": [
       "defaultdict(list,\n",
       "            {0: [84.2497,\n",
       "              87.1722,\n",
       "              84.4061,\n",
       "              85.2492,\n",
       "              84.0623,\n",
       "              84.6566,\n",
       "              85.9064,\n",
       "              85.406,\n",
       "              84.7496,\n",
       "              82.5463,\n",
       "              86.2186,\n",
       "              84.7495,\n",
       "              85.4215,\n",
       "              86.3755,\n",
       "              85.7347,\n",
       "              86.8909,\n",
       "              83.7653,\n",
       "              86.1405,\n",
       "              84.8278,\n",
       "              86.6873,\n",
       "              84.7808,\n",
       "              84.5778,\n",
       "              86.2655,\n",
       "              83.1244,\n",
       "              86.3444,\n",
       "              87.6253,\n",
       "              84.1251,\n",
       "              85.8911,\n",
       "              85.2808,\n",
       "              85.4218,\n",
       "              86.1406,\n",
       "              86.3594,\n",
       "              84.906,\n",
       "              87.1565,\n",
       "              86.7972,\n",
       "              86.1251,\n",
       "              85.4533,\n",
       "              86.5936,\n",
       "              85.4998,\n",
       "              82.4836,\n",
       "              83.7813,\n",
       "              86.6563,\n",
       "              83.609,\n",
       "              84.4213,\n",
       "              84.6252,\n",
       "              84.7657,\n",
       "              84.8907,\n",
       "              85.0619,\n",
       "              86.4846,\n",
       "              85.3435],\n",
       "             1: [85.6714,\n",
       "              86.3125,\n",
       "              84.4211,\n",
       "              85.1561,\n",
       "              86.5469,\n",
       "              86.0783,\n",
       "              83.1715,\n",
       "              84.8281,\n",
       "              84.7656,\n",
       "              86.1093,\n",
       "              86.3902,\n",
       "              84.6089,\n",
       "              80.0932,\n",
       "              84.6713,\n",
       "              87.7817,\n",
       "              85.4378,\n",
       "              85.5314,\n",
       "              86.0158,\n",
       "              85.3903,\n",
       "              84.5925,\n",
       "              86.6402,\n",
       "              85.2813,\n",
       "              85.7651,\n",
       "              83.1868,\n",
       "              86.5467,\n",
       "              85.6092,\n",
       "              86.1246,\n",
       "              84.3122,\n",
       "              83.6406,\n",
       "              83.8744,\n",
       "              83.8903,\n",
       "              85.7335,\n",
       "              86.7971,\n",
       "              84.6401,\n",
       "              83.2972,\n",
       "              86.7658,\n",
       "              85.2656,\n",
       "              81.3905,\n",
       "              85.7181,\n",
       "              84.75,\n",
       "              85.8749,\n",
       "              86.0623,\n",
       "              85.1405,\n",
       "              85.75,\n",
       "              85.7498,\n",
       "              86.1095,\n",
       "              85.1088,\n",
       "              86.6716,\n",
       "              86.8437,\n",
       "              85.9219],\n",
       "             2: [84.8276,\n",
       "              82.8433,\n",
       "              86.7033,\n",
       "              86.6874,\n",
       "              86.1403,\n",
       "              84.7177,\n",
       "              85.4371,\n",
       "              84.5463,\n",
       "              86.5006,\n",
       "              85.7809,\n",
       "              84.4999,\n",
       "              85.2181,\n",
       "              85.5158,\n",
       "              86.8757,\n",
       "              86.5158,\n",
       "              83.6872,\n",
       "              84.0152,\n",
       "              85.8591,\n",
       "              85.8593,\n",
       "              85.0465,\n",
       "              84.2028,\n",
       "              86.3904,\n",
       "              85.7501,\n",
       "              85.7029,\n",
       "              86.3594,\n",
       "              84.2654,\n",
       "              85.3743,\n",
       "              85.3902,\n",
       "              84.734,\n",
       "              85.078,\n",
       "              84.5306,\n",
       "              85.8586,\n",
       "              84.3593,\n",
       "              86.3124,\n",
       "              84.7959,\n",
       "              85.609,\n",
       "              85.125,\n",
       "              82.9374,\n",
       "              85.7502,\n",
       "              84.7651,\n",
       "              83.2339,\n",
       "              86.5158,\n",
       "              87.3122,\n",
       "              87.1564,\n",
       "              87.5786,\n",
       "              86.1408,\n",
       "              86.0154,\n",
       "              83.843,\n",
       "              83.3906,\n",
       "              85.2336],\n",
       "             4: [85.9067,\n",
       "              85.1559,\n",
       "              83.5,\n",
       "              84.5775,\n",
       "              86.6094,\n",
       "              84.2965,\n",
       "              85.2649,\n",
       "              85.1402,\n",
       "              83.7497,\n",
       "              84.6088,\n",
       "              85.3907,\n",
       "              86.2494,\n",
       "              84.8278,\n",
       "              84.9218,\n",
       "              85.7657,\n",
       "              85.4531,\n",
       "              84.7808,\n",
       "              85.265,\n",
       "              85.1711,\n",
       "              84.7655,\n",
       "              86.7499,\n",
       "              85.7189,\n",
       "              85.7649,\n",
       "              86.9847,\n",
       "              84.9371,\n",
       "              84.5313,\n",
       "              86.0313,\n",
       "              85.0773,\n",
       "              86.1869,\n",
       "              84.8442,\n",
       "              85.281,\n",
       "              85.4689,\n",
       "              85.9997,\n",
       "              83.4999,\n",
       "              83.6401,\n",
       "              83.8898,\n",
       "              85.7656,\n",
       "              85.515,\n",
       "              83.8594,\n",
       "              83.3743,\n",
       "              86.5467,\n",
       "              86.4373,\n",
       "              84.984,\n",
       "              85.9686,\n",
       "              86.8127,\n",
       "              83.3281,\n",
       "              84.625,\n",
       "              85.6243,\n",
       "              87.0471,\n",
       "              85.2026],\n",
       "             8: [86.2967,\n",
       "              85.5003,\n",
       "              86.7346,\n",
       "              85.6716,\n",
       "              87.5631,\n",
       "              83.1717,\n",
       "              86.1563,\n",
       "              86.2184,\n",
       "              84.8432,\n",
       "              86.3438,\n",
       "              84.312,\n",
       "              86.2971,\n",
       "              85.8119,\n",
       "              85.1873,\n",
       "              84.9373,\n",
       "              83.531,\n",
       "              86.7186,\n",
       "              86.7653,\n",
       "              85.7964,\n",
       "              85.265,\n",
       "              84.4214,\n",
       "              85.3586,\n",
       "              84.1713,\n",
       "              87.1567,\n",
       "              88.0944,\n",
       "              86.7341,\n",
       "              85.3274,\n",
       "              86.9531,\n",
       "              83.5466,\n",
       "              86.2973,\n",
       "              82.1872,\n",
       "              85.4528,\n",
       "              83.9997,\n",
       "              84.9846,\n",
       "              85.156,\n",
       "              84.1869,\n",
       "              86.484,\n",
       "              85.8439,\n",
       "              85.4372,\n",
       "              86.9843,\n",
       "              86.4848,\n",
       "              85.953,\n",
       "              86.4534,\n",
       "              87.0,\n",
       "              86.9372,\n",
       "              85.0623,\n",
       "              85.6248,\n",
       "              84.25,\n",
       "              86.0941,\n",
       "              86.4536],\n",
       "             16: [86.8908,\n",
       "              87.2033,\n",
       "              82.0002,\n",
       "              86.4691,\n",
       "              87.0942,\n",
       "              85.1249,\n",
       "              86.2031,\n",
       "              83.7812,\n",
       "              85.9997,\n",
       "              87.6869,\n",
       "              85.7811,\n",
       "              85.3435,\n",
       "              87.1566,\n",
       "              86.6564,\n",
       "              85.8588,\n",
       "              85.343,\n",
       "              84.7818,\n",
       "              85.5936,\n",
       "              85.9846,\n",
       "              85.8907,\n",
       "              87.8438,\n",
       "              87.391,\n",
       "              86.0471,\n",
       "              83.8278,\n",
       "              85.1402,\n",
       "              88.3444,\n",
       "              85.2968,\n",
       "              86.1563,\n",
       "              86.6878,\n",
       "              85.0469,\n",
       "              83.5466,\n",
       "              85.5625,\n",
       "              85.4844,\n",
       "              86.2501,\n",
       "              85.2188,\n",
       "              84.3592,\n",
       "              86.2192,\n",
       "              85.2657,\n",
       "              87.4851,\n",
       "              85.3908,\n",
       "              85.6562,\n",
       "              84.7189,\n",
       "              85.1249,\n",
       "              84.6563,\n",
       "              86.0474,\n",
       "              86.6877,\n",
       "              83.5778,\n",
       "              86.5307,\n",
       "              85.609,\n",
       "              85.3589],\n",
       "             32: [86.8756,\n",
       "              85.4684,\n",
       "              83.8434,\n",
       "              85.9684,\n",
       "              86.8129,\n",
       "              86.1718,\n",
       "              86.3443,\n",
       "              86.0472,\n",
       "              85.1097,\n",
       "              84.4219,\n",
       "              85.3433,\n",
       "              87.6877,\n",
       "              86.4221,\n",
       "              87.2341,\n",
       "              86.828,\n",
       "              84.9528,\n",
       "              86.3599,\n",
       "              83.2808,\n",
       "              85.8591,\n",
       "              85.6874,\n",
       "              87.2817,\n",
       "              84.4371,\n",
       "              86.8596,\n",
       "              86.813,\n",
       "              85.5936,\n",
       "              85.0308,\n",
       "              85.9219,\n",
       "              86.3285,\n",
       "              86.0785,\n",
       "              85.9374,\n",
       "              85.859,\n",
       "              87.2036,\n",
       "              86.8437,\n",
       "              85.0464,\n",
       "              84.5152,\n",
       "              85.7808,\n",
       "              84.9531,\n",
       "              85.4059,\n",
       "              85.0936,\n",
       "              85.5,\n",
       "              86.5627,\n",
       "              86.6717,\n",
       "              84.3276,\n",
       "              86.7343,\n",
       "              86.0937,\n",
       "              84.4367,\n",
       "              87.25,\n",
       "              86.9999,\n",
       "              84.2026,\n",
       "              84.7655],\n",
       "             64: [86.6564,\n",
       "              85.3749,\n",
       "              86.281,\n",
       "              85.7813,\n",
       "              84.9993,\n",
       "              87.1407,\n",
       "              85.6398,\n",
       "              86.7034,\n",
       "              86.9063,\n",
       "              86.4221,\n",
       "              86.1092,\n",
       "              85.89,\n",
       "              85.3901,\n",
       "              82.8119,\n",
       "              86.2655,\n",
       "              83.3585,\n",
       "              86.8437,\n",
       "              87.3285,\n",
       "              86.5162,\n",
       "              87.0005,\n",
       "              84.0306,\n",
       "              87.8754,\n",
       "              86.0315,\n",
       "              86.8748,\n",
       "              86.578,\n",
       "              88.0007,\n",
       "              84.4212,\n",
       "              87.8126,\n",
       "              85.2969,\n",
       "              86.4687,\n",
       "              86.9376,\n",
       "              87.1402,\n",
       "              86.3275,\n",
       "              85.4367,\n",
       "              84.9372,\n",
       "              83.8436,\n",
       "              87.0936,\n",
       "              85.9528,\n",
       "              86.656,\n",
       "              86.1247,\n",
       "              86.2341,\n",
       "              86.562,\n",
       "              85.8436,\n",
       "              86.25,\n",
       "              83.0619,\n",
       "              85.7657,\n",
       "              86.5001,\n",
       "              84.4215,\n",
       "              85.8588,\n",
       "              85.8431]})"
      ]
     },
     "execution_count": 6,
     "metadata": {},
     "output_type": "execute_result"
    }
   ],
   "source": [
    "dev_success"
   ]
  },
  {
   "cell_type": "code",
   "execution_count": 7,
   "metadata": {
    "collapsed": false
   },
   "outputs": [
    {
     "name": "stdout",
     "output_type": "stream",
     "text": [
      "[50, 50, 50, 50, 50, 50, 50, 50]\n",
      "[50, 50, 50, 50, 50, 50, 50, 50]\n"
     ]
    }
   ],
   "source": [
    "print([len(xs) for xs in dev_success.values()])\n",
    "print([len(xs) for xs in pt_success.values()])"
   ]
  },
  {
   "cell_type": "code",
   "execution_count": 8,
   "metadata": {
    "collapsed": true
   },
   "outputs": [],
   "source": [
    "keys = sorted(dev_success.keys())"
   ]
  },
  {
   "cell_type": "code",
   "execution_count": 9,
   "metadata": {
    "collapsed": true
   },
   "outputs": [],
   "source": [
    "dev_success = np.array([dev_success[key] for key in keys])\n",
    "pt_success = np.array([pt_success[key] for key in keys])"
   ]
  },
  {
   "cell_type": "code",
   "execution_count": 10,
   "metadata": {
    "collapsed": false
   },
   "outputs": [
    {
     "data": {
      "text/plain": [
       "(8, 50)"
      ]
     },
     "execution_count": 10,
     "metadata": {},
     "output_type": "execute_result"
    }
   ],
   "source": [
    "dev_success.shape"
   ]
  },
  {
   "cell_type": "code",
   "execution_count": 11,
   "metadata": {
    "collapsed": true
   },
   "outputs": [],
   "source": [
    "x_entries = [2 ** x for x in range(8)]"
   ]
  },
  {
   "cell_type": "code",
   "execution_count": 12,
   "metadata": {
    "collapsed": false
   },
   "outputs": [
    {
     "data": {
      "text/plain": [
       "<matplotlib.text.Text at 0x11ae29358>"
      ]
     },
     "execution_count": 12,
     "metadata": {},
     "output_type": "execute_result"
    },
    {
     "data": {
      "image/png": "[encoded data removed]",
      "text/plain": [
       "<matplotlib.figure.Figure at 0x10c2185c0>"
      ]
     },
     "metadata": {},
     "output_type": "display_data"
    }
   ],
   "source": [
    "ax = sns.tsplot(dev_success.T, time=x_entries)\n",
    "ax.set_xlim(0, 64)\n",
    "ax.set_ylabel(\"FM dev success\")\n",
    "ax.set_xlabel(\"k\")"
   ]
  },
  {
   "cell_type": "code",
   "execution_count": 13,
   "metadata": {
    "collapsed": false
   },
   "outputs": [
    {
     "data": {
      "text/plain": [
       "<matplotlib.text.Text at 0x11ae48a90>"
      ]
     },
     "execution_count": 13,
     "metadata": {},
     "output_type": "execute_result"
    },
    {
     "data": {
      "image/png": "[encoded data removed]",
      "text/plain": [
       "<matplotlib.figure.Figure at 0x11ae14b38>"
      ]
     },
     "metadata": {},
     "output_type": "display_data"
    }
   ],
   "source": [
    "ax = sns.tsplot(pt_success.T, time=x_entries)\n",
    "ax.set_xlim(0, 64)\n",
    "ax.set_ylabel(\"pre-train dev success\")\n",
    "ax.set_xlabel(\"k\")"
   ]
  },
  {
   "cell_type": "code",
   "execution_count": null,
   "metadata": {
    "collapsed": true
   },
   "outputs": [],
   "source": []
  }
 ],
 "metadata": {
  "anaconda-cloud": {},
  "kernelspec": {
   "display_name": "Python [conda root]",
   "language": "python",
   "name": "conda-root-py"
  },
  "language_info": {
   "codemirror_mode": {
    "name": "ipython",
    "version": 3
   },
   "file_extension": ".py",
   "mimetype": "text/x-python",
   "name": "python",
   "nbconvert_exporter": "python",
   "pygments_lexer": "ipython3",
   "version": "3.5.2"
  }
 },
 "nbformat": 4,
 "nbformat_minor": 1
}
