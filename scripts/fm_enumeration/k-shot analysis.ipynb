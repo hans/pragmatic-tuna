{
 "cells": [
  {
   "cell_type": "code",
   "execution_count": 1,
   "metadata": {
    "collapsed": true
   },
   "outputs": [],
   "source": [
    "import numpy as np\n",
    "import matplotlib.pyplot as plt\n",
    "import seaborn as sns; sns.set_style(\"darkgrid\")\n",
    "%matplotlib inline"
   ]
  },
  {
   "cell_type": "code",
   "execution_count": 2,
   "metadata": {
    "collapsed": true
   },
   "outputs": [],
   "source": [
    "from pathlib import Path"
   ]
  },
  {
   "cell_type": "code",
   "execution_count": 3,
   "metadata": {
    "collapsed": true
   },
   "outputs": [],
   "source": [
    "from collections import defaultdict"
   ]
  },
  {
   "cell_type": "code",
   "execution_count": 4,
   "metadata": {
    "collapsed": true
   },
   "outputs": [],
   "source": [
    "results_path = Path(\"results/\")"
   ]
  },
  {
   "cell_type": "code",
   "execution_count": 5,
   "metadata": {
    "collapsed": false
   },
   "outputs": [],
   "source": [
    "dev_success = defaultdict(list)\n",
    "pt_success = defaultdict(list)\n",
    "\n",
    "for result_path in results_path.iterdir():\n",
    "    name = result_path.name\n",
    "    if name.endswith((\"dev_success\", \"pt_success\")):\n",
    "        k = int(name[:name.index(\".\")])\n",
    "        value = float(result_path.read_text().strip())\n",
    "        if name.endswith(\"dev_success\"):\n",
    "            dev_success[k].append(value)\n",
    "        elif name.endswith(\"pt_success\"):\n",
    "            pt_success[k].append(value)"
   ]
  },
  {
   "cell_type": "code",
   "execution_count": 6,
   "metadata": {
    "collapsed": false
   },
   "outputs": [
    {
     "data": {
      "text/plain": [
       "defaultdict(list,\n",
       "            {0: [94.998,\n",
       "              97.19,\n",
       "              93.124,\n",
       "              95.312,\n",
       "              92.812,\n",
       "              93.44,\n",
       "              93.436,\n",
       "              95.312,\n",
       "              93.124,\n",
       "              92.812,\n",
       "              94.688,\n",
       "              94.374,\n",
       "              94.376,\n",
       "              94.376,\n",
       "              95.94,\n",
       "              96.562,\n",
       "              93.436,\n",
       "              94.064,\n",
       "              93.438,\n",
       "              95.312,\n",
       "              92.814,\n",
       "              94.378,\n",
       "              92.814,\n",
       "              93.75,\n",
       "              94.062,\n",
       "              93.748,\n",
       "              91.246,\n",
       "              93.752,\n",
       "              92.812,\n",
       "              91.25,\n",
       "              94.688,\n",
       "              95.002,\n",
       "              95.0,\n",
       "              95.938,\n",
       "              94.376,\n",
       "              93.748,\n",
       "              94.69,\n",
       "              94.064,\n",
       "              94.062,\n",
       "              90.934,\n",
       "              90.936,\n",
       "              95.626,\n",
       "              90.312,\n",
       "              93.122,\n",
       "              93.124,\n",
       "              93.44,\n",
       "              94.69,\n",
       "              93.75,\n",
       "              95.314,\n",
       "              94.374],\n",
       "             1: [94.374,\n",
       "              95.626,\n",
       "              91.562,\n",
       "              94.376,\n",
       "              94.064,\n",
       "              95.002,\n",
       "              93.124,\n",
       "              93.75,\n",
       "              93.75,\n",
       "              95.314,\n",
       "              96.564,\n",
       "              91.876,\n",
       "              88.126,\n",
       "              93.44,\n",
       "              96.252,\n",
       "              95.626,\n",
       "              94.062,\n",
       "              94.688,\n",
       "              93.75,\n",
       "              92.498,\n",
       "              94.378,\n",
       "              90.626,\n",
       "              92.5,\n",
       "              91.56,\n",
       "              96.876,\n",
       "              95.312,\n",
       "              94.686,\n",
       "              92.186,\n",
       "              92.814,\n",
       "              92.81,\n",
       "              93.124,\n",
       "              94.062,\n",
       "              93.438,\n",
       "              92.188,\n",
       "              91.564,\n",
       "              95.626,\n",
       "              93.75,\n",
       "              90.624,\n",
       "              95.312,\n",
       "              91.874,\n",
       "              95.002,\n",
       "              93.436,\n",
       "              92.188,\n",
       "              94.062,\n",
       "              93.75,\n",
       "              92.186,\n",
       "              90.936,\n",
       "              95.0,\n",
       "              92.496,\n",
       "              95.626],\n",
       "             2: [94.062,\n",
       "              92.188,\n",
       "              95.314,\n",
       "              93.124,\n",
       "              94.376,\n",
       "              92.814,\n",
       "              93.75,\n",
       "              93.122,\n",
       "              94.69,\n",
       "              95.94,\n",
       "              93.124,\n",
       "              92.812,\n",
       "              95.002,\n",
       "              95.0,\n",
       "              95.002,\n",
       "              93.124,\n",
       "              91.248,\n",
       "              95.0,\n",
       "              92.188,\n",
       "              93.438,\n",
       "              92.186,\n",
       "              95.314,\n",
       "              94.688,\n",
       "              96.252,\n",
       "              95.0,\n",
       "              91.25,\n",
       "              95.626,\n",
       "              94.062,\n",
       "              92.188,\n",
       "              95.94,\n",
       "              91.876,\n",
       "              92.812,\n",
       "              93.436,\n",
       "              93.438,\n",
       "              93.436,\n",
       "              92.81,\n",
       "              94.376,\n",
       "              90.94,\n",
       "              93.126,\n",
       "              92.498,\n",
       "              92.816,\n",
       "              94.376,\n",
       "              96.252,\n",
       "              94.062,\n",
       "              96.254,\n",
       "              92.812,\n",
       "              93.75,\n",
       "              92.498,\n",
       "              93.748,\n",
       "              92.5],\n",
       "             4: [95.314,\n",
       "              93.438,\n",
       "              94.064,\n",
       "              93.748,\n",
       "              94.376,\n",
       "              93.436,\n",
       "              92.498,\n",
       "              92.188,\n",
       "              92.812,\n",
       "              93.438,\n",
       "              92.812,\n",
       "              96.25,\n",
       "              92.814,\n",
       "              93.75,\n",
       "              93.75,\n",
       "              95.002,\n",
       "              93.75,\n",
       "              94.686,\n",
       "              94.062,\n",
       "              92.186,\n",
       "              95.0,\n",
       "              94.062,\n",
       "              92.188,\n",
       "              95.94,\n",
       "              97.19,\n",
       "              95.626,\n",
       "              94.688,\n",
       "              93.124,\n",
       "              94.688,\n",
       "              92.19,\n",
       "              94.064,\n",
       "              94.688,\n",
       "              94.062,\n",
       "              92.812,\n",
       "              93.436,\n",
       "              91.562,\n",
       "              93.124,\n",
       "              91.562,\n",
       "              93.122,\n",
       "              92.186,\n",
       "              95.314,\n",
       "              96.252,\n",
       "              94.374,\n",
       "              95.624,\n",
       "              92.5,\n",
       "              92.188,\n",
       "              94.376,\n",
       "              95.0,\n",
       "              92.5,\n",
       "              91.874],\n",
       "             8: [95.312,\n",
       "              94.376,\n",
       "              94.064,\n",
       "              94.688,\n",
       "              95.628,\n",
       "              92.188,\n",
       "              92.812,\n",
       "              94.688,\n",
       "              93.748,\n",
       "              96.252,\n",
       "              91.562,\n",
       "              94.062,\n",
       "              92.5,\n",
       "              94.062,\n",
       "              92.188,\n",
       "              92.498,\n",
       "              94.374,\n",
       "              96.564,\n",
       "              91.56,\n",
       "              92.814,\n",
       "              95.626,\n",
       "              92.5,\n",
       "              93.124,\n",
       "              95.626,\n",
       "              96.252,\n",
       "              95.0,\n",
       "              93.436,\n",
       "              97.502,\n",
       "              91.874,\n",
       "              95.314,\n",
       "              92.812,\n",
       "              95.0,\n",
       "              93.122,\n",
       "              94.064,\n",
       "              92.812,\n",
       "              94.062,\n",
       "              95.0,\n",
       "              91.872,\n",
       "              94.064,\n",
       "              95.314,\n",
       "              94.376,\n",
       "              93.124,\n",
       "              93.124,\n",
       "              95.626,\n",
       "              97.19,\n",
       "              91.248,\n",
       "              95.312,\n",
       "              91.562,\n",
       "              94.374,\n",
       "              95.312],\n",
       "             16: [94.688,\n",
       "              92.186,\n",
       "              94.064,\n",
       "              96.252,\n",
       "              94.376,\n",
       "              94.064,\n",
       "              94.374,\n",
       "              91.872,\n",
       "              94.69,\n",
       "              94.374,\n",
       "              94.69,\n",
       "              93.124,\n",
       "              94.062,\n",
       "              95.0,\n",
       "              95.624,\n",
       "              97.188,\n",
       "              93.438,\n",
       "              94.374,\n",
       "              92.812,\n",
       "              93.75,\n",
       "              95.624,\n",
       "              93.752,\n",
       "              93.748,\n",
       "              93.75,\n",
       "              93.436,\n",
       "              95.94,\n",
       "              95.0,\n",
       "              95.314,\n",
       "              96.25,\n",
       "              93.124,\n",
       "              92.812,\n",
       "              93.75,\n",
       "              94.376,\n",
       "              94.688,\n",
       "              93.126,\n",
       "              93.124,\n",
       "              95.312,\n",
       "              93.126,\n",
       "              96.564,\n",
       "              94.374,\n",
       "              92.812,\n",
       "              94.376,\n",
       "              93.752,\n",
       "              93.124,\n",
       "              94.69,\n",
       "              94.688,\n",
       "              91.562,\n",
       "              95.002,\n",
       "              93.436,\n",
       "              95.0],\n",
       "             32: [96.878,\n",
       "              91.564,\n",
       "              93.752,\n",
       "              94.686,\n",
       "              94.69,\n",
       "              94.374,\n",
       "              95.94,\n",
       "              94.69,\n",
       "              93.75,\n",
       "              91.25,\n",
       "              95.94,\n",
       "              95.0,\n",
       "              95.628,\n",
       "              92.498,\n",
       "              93.436,\n",
       "              93.436,\n",
       "              95.626,\n",
       "              91.56,\n",
       "              93.748,\n",
       "              95.002,\n",
       "              96.252,\n",
       "              92.5,\n",
       "              95.626,\n",
       "              92.814,\n",
       "              92.5,\n",
       "              92.188,\n",
       "              93.124,\n",
       "              94.688,\n",
       "              94.064,\n",
       "              95.002,\n",
       "              93.124,\n",
       "              95.002,\n",
       "              94.688,\n",
       "              93.124,\n",
       "              93.438,\n",
       "              94.686,\n",
       "              94.998,\n",
       "              93.75,\n",
       "              92.186,\n",
       "              95.0,\n",
       "              95.94,\n",
       "              95.002,\n",
       "              94.062,\n",
       "              95.0,\n",
       "              95.314,\n",
       "              92.186,\n",
       "              97.5,\n",
       "              96.25,\n",
       "              93.124,\n",
       "              93.438],\n",
       "             64: [93.438,\n",
       "              93.124,\n",
       "              95.314,\n",
       "              95.94,\n",
       "              92.186,\n",
       "              93.438,\n",
       "              95.312,\n",
       "              92.5,\n",
       "              95.312,\n",
       "              96.566,\n",
       "              93.438,\n",
       "              93.124,\n",
       "              92.188,\n",
       "              90.936,\n",
       "              93.436,\n",
       "              93.126,\n",
       "              95.314,\n",
       "              94.688,\n",
       "              93.752,\n",
       "              95.94,\n",
       "              93.434,\n",
       "              97.188,\n",
       "              91.874,\n",
       "              94.062,\n",
       "              94.688,\n",
       "              95.626,\n",
       "              94.69,\n",
       "              97.5,\n",
       "              92.5,\n",
       "              93.436,\n",
       "              96.252,\n",
       "              93.75,\n",
       "              93.75,\n",
       "              94.062,\n",
       "              93.75,\n",
       "              93.75,\n",
       "              95.94,\n",
       "              94.686,\n",
       "              94.376,\n",
       "              95.002,\n",
       "              96.252,\n",
       "              93.436,\n",
       "              93.126,\n",
       "              94.374,\n",
       "              94.69,\n",
       "              94.064,\n",
       "              93.438,\n",
       "              95.314,\n",
       "              94.376,\n",
       "              94.062]})"
      ]
     },
     "execution_count": 6,
     "metadata": {},
     "output_type": "execute_result"
    }
   ],
   "source": [
    "dev_success"
   ]
  },
  {
   "cell_type": "code",
   "execution_count": 7,
   "metadata": {
    "collapsed": false
   },
   "outputs": [
    {
     "name": "stdout",
     "output_type": "stream",
     "text": [
      "[50, 50, 50, 50, 50, 50, 50, 50]\n",
      "[50, 50, 50, 50, 50, 50, 50, 50]\n"
     ]
    }
   ],
   "source": [
    "print([len(xs) for xs in dev_success.values()])\n",
    "print([len(xs) for xs in pt_success.values()])"
   ]
  },
  {
   "cell_type": "code",
   "execution_count": 8,
   "metadata": {
    "collapsed": true
   },
   "outputs": [],
   "source": [
    "keys = sorted(dev_success.keys())"
   ]
  },
  {
   "cell_type": "code",
   "execution_count": 9,
   "metadata": {
    "collapsed": true
   },
   "outputs": [],
   "source": [
    "dev_success = np.array([dev_success[key] for key in keys])\n",
    "pt_success = np.array([pt_success[key] for key in keys])"
   ]
  },
  {
   "cell_type": "code",
   "execution_count": 10,
   "metadata": {
    "collapsed": false
   },
   "outputs": [
    {
     "data": {
      "text/plain": [
       "(8, 50)"
      ]
     },
     "execution_count": 10,
     "metadata": {},
     "output_type": "execute_result"
    }
   ],
   "source": [
    "dev_success.shape"
   ]
  },
  {
   "cell_type": "code",
   "execution_count": 11,
   "metadata": {
    "collapsed": true
   },
   "outputs": [],
   "source": [
    "x_entries = [2 ** x for x in range(8)]"
   ]
  },
  {
   "cell_type": "code",
   "execution_count": 16,
   "metadata": {
    "collapsed": false
   },
   "outputs": [
    {
     "data": {
      "text/plain": [
       "<matplotlib.axes._subplots.AxesSubplot at 0x1049eada0>"
      ]
     },
     "execution_count": 16,
     "metadata": {},
     "output_type": "execute_result"
    },
    {
     "data": {
      "image/png": "[encoded data removed]",
      "text/plain": [
       "<matplotlib.figure.Figure at 0x11dd165f8>"
      ]
     },
     "metadata": {},
     "output_type": "display_data"
    }
   ],
   "source": [
    "ax = plt.subplot()\n",
    "ax.set_xlim(0, 64)\n",
    "ax.set_ylabel(\"Synthetic batch success rate\")\n",
    "ax.set_xlabel(\"log_2 k\")\n",
    "ax.set_xscale(\"log\", basex=2)\n",
    "sns.tsplot(dev_success.T, time=x_entries, ax=ax)"
   ]
  },
  {
   "cell_type": "code",
   "execution_count": 13,
   "metadata": {
    "collapsed": false
   },
   "outputs": [
    {
     "data": {
      "text/plain": [
       "<matplotlib.axes._subplots.AxesSubplot at 0x11dfdf6a0>"
      ]
     },
     "execution_count": 13,
     "metadata": {},
     "output_type": "execute_result"
    },
    {
     "data": {
      "image/png": "[encoded data removed]",
      "text/plain": [
       "<matplotlib.figure.Figure at 0x11e448080>"
      ]
     },
     "metadata": {},
     "output_type": "display_data"
    }
   ],
   "source": [
    "ax = plt.subplot()\n",
    "ax.set_xlim(0, 64)\n",
    "ax.set_ylabel(\"pre-train dev success\")\n",
    "ax.set_xlabel(\"log_2 k\")\n",
    "ax.set_xscale(\"log\", base=2)\n",
    "ax.set_xticks(np.power(2, np.arange(8)))\n",
    "ax.set_xticklabels([\"$2^%i$\" % x for x in range(8)])\n",
    "sns.tsplot(pt_success.T, time=x_entries, ax=ax)"
   ]
  },
  {
   "cell_type": "code",
   "execution_count": null,
   "metadata": {
    "collapsed": true
   },
   "outputs": [],
   "source": []
  }
 ],
 "metadata": {
  "anaconda-cloud": {},
  "kernelspec": {
   "display_name": "Python [conda root]",
   "language": "python",
   "name": "conda-root-py"
  },
  "language_info": {
   "codemirror_mode": {
    "name": "ipython",
    "version": 3
   },
   "file_extension": ".py",
   "mimetype": "text/x-python",
   "name": "python",
   "nbconvert_exporter": "python",
   "pygments_lexer": "ipython3",
   "version": "3.5.2"
  }
 },
 "nbformat": 4,
 "nbformat_minor": 1
}
