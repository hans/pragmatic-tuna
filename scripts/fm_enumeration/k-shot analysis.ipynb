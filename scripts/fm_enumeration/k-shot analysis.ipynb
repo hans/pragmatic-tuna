{
 "cells": [
  {
   "cell_type": "code",
   "execution_count": 34,
   "metadata": {
    "collapsed": true
   },
   "outputs": [],
   "source": [
    "import numpy as np\n",
    "import matplotlib.pyplot as plt\n",
    "import seaborn as sns; sns.set_style(\"darkgrid\")\n",
    "%matplotlib inline"
   ]
  },
  {
   "cell_type": "code",
   "execution_count": 35,
   "metadata": {
    "collapsed": true
   },
   "outputs": [],
   "source": [
    "from pathlib import Path"
   ]
  },
  {
   "cell_type": "code",
   "execution_count": 36,
   "metadata": {
    "collapsed": true
   },
   "outputs": [],
   "source": [
    "from collections import defaultdict"
   ]
  },
  {
   "cell_type": "code",
   "execution_count": 37,
   "metadata": {
    "collapsed": true
   },
   "outputs": [],
   "source": [
    "results_path = Path(\"results/\")"
   ]
  },
  {
   "cell_type": "code",
   "execution_count": 38,
   "metadata": {
    "collapsed": false
   },
   "outputs": [],
   "source": [
    "dev_success = defaultdict(list)\n",
    "pt_success = defaultdict(list)\n",
    "\n",
    "for result_path in results_path.iterdir():\n",
    "    name = result_path.name\n",
    "    if name.endswith((\"dev_success\", \"pt_success\")):\n",
    "        k = int(name[:name.index(\".\")])\n",
    "        value = float(result_path.read_text().strip())\n",
    "        if name.endswith(\"dev_success\"):\n",
    "            dev_success[k].append(value)\n",
    "        elif name.endswith(\"pt_success\"):\n",
    "            pt_success[k].append(value)"
   ]
  },
  {
   "cell_type": "code",
   "execution_count": 39,
   "metadata": {
    "collapsed": false
   },
   "outputs": [
    {
     "data": {
      "text/plain": [
       "defaultdict(list,\n",
       "            {0: [93.592,\n",
       "              96.252,\n",
       "              92.811,\n",
       "              94.687,\n",
       "              92.343,\n",
       "              94.065,\n",
       "              93.749,\n",
       "              93.906,\n",
       "              93.125,\n",
       "              92.656,\n",
       "              95.0,\n",
       "              93.593,\n",
       "              93.438,\n",
       "              93.906,\n",
       "              95.002,\n",
       "              95.468,\n",
       "              94.063,\n",
       "              93.75,\n",
       "              93.437,\n",
       "              94.531,\n",
       "              94.376,\n",
       "              93.126,\n",
       "              93.438,\n",
       "              93.125,\n",
       "              94.531,\n",
       "              94.375,\n",
       "              92.186,\n",
       "              93.907,\n",
       "              93.125,\n",
       "              92.187,\n",
       "              93.907,\n",
       "              93.75,\n",
       "              93.906,\n",
       "              95.781,\n",
       "              94.063,\n",
       "              93.905,\n",
       "              94.533,\n",
       "              93.594,\n",
       "              94.219,\n",
       "              91.56,\n",
       "              92.342,\n",
       "              95.314,\n",
       "              91.094,\n",
       "              93.592,\n",
       "              94.219,\n",
       "              93.283,\n",
       "              95.002,\n",
       "              94.375,\n",
       "              95.001,\n",
       "              93.281],\n",
       "             1: [94.687,\n",
       "              94.063,\n",
       "              91.718,\n",
       "              93.906,\n",
       "              94.22,\n",
       "              94.688,\n",
       "              92.186,\n",
       "              93.907,\n",
       "              92.5,\n",
       "              94.532,\n",
       "              95.626,\n",
       "              92.501,\n",
       "              88.595,\n",
       "              93.126,\n",
       "              96.252,\n",
       "              94.688,\n",
       "              94.688,\n",
       "              94.689,\n",
       "              93.594,\n",
       "              93.281,\n",
       "              94.846,\n",
       "              91.876,\n",
       "              93.594,\n",
       "              91.561,\n",
       "              95.938,\n",
       "              94.844,\n",
       "              93.279,\n",
       "              92.186,\n",
       "              92.188,\n",
       "              92.968,\n",
       "              92.655,\n",
       "              93.594,\n",
       "              94.063,\n",
       "              92.186,\n",
       "              91.251,\n",
       "              96.252,\n",
       "              93.282,\n",
       "              90.0,\n",
       "              95.157,\n",
       "              92.812,\n",
       "              93.907,\n",
       "              93.124,\n",
       "              92.188,\n",
       "              93.592,\n",
       "              93.906,\n",
       "              93.125,\n",
       "              90.936,\n",
       "              95.0,\n",
       "              92.81,\n",
       "              95.0],\n",
       "             2: [93.281,\n",
       "              92.657,\n",
       "              95.783,\n",
       "              92.655,\n",
       "              93.75,\n",
       "              93.126,\n",
       "              93.124,\n",
       "              92.499,\n",
       "              94.534,\n",
       "              94.689,\n",
       "              91.094,\n",
       "              91.874,\n",
       "              95.158,\n",
       "              95.158,\n",
       "              94.845,\n",
       "              93.125,\n",
       "              91.561,\n",
       "              94.531,\n",
       "              93.281,\n",
       "              93.751,\n",
       "              92.343,\n",
       "              95.47,\n",
       "              94.845,\n",
       "              95.47,\n",
       "              94.532,\n",
       "              91.25,\n",
       "              94.219,\n",
       "              94.845,\n",
       "              91.562,\n",
       "              94.22,\n",
       "              93.752,\n",
       "              94.219,\n",
       "              92.812,\n",
       "              94.375,\n",
       "              92.967,\n",
       "              92.343,\n",
       "              94.533,\n",
       "              92.033,\n",
       "              94.689,\n",
       "              91.717,\n",
       "              92.501,\n",
       "              94.375,\n",
       "              95.157,\n",
       "              94.218,\n",
       "              95.94,\n",
       "              93.125,\n",
       "              93.437,\n",
       "              92.343,\n",
       "              92.968,\n",
       "              92.812],\n",
       "             4: [94.22,\n",
       "              92.655,\n",
       "              92.969,\n",
       "              93.592,\n",
       "              93.75,\n",
       "              92.03,\n",
       "              93.905,\n",
       "              91.873,\n",
       "              92.344,\n",
       "              92.97,\n",
       "              93.751,\n",
       "              94.687,\n",
       "              94.063,\n",
       "              92.968,\n",
       "              93.438,\n",
       "              94.22,\n",
       "              93.75,\n",
       "              93.749,\n",
       "              94.688,\n",
       "              92.499,\n",
       "              94.374,\n",
       "              94.376,\n",
       "              94.064,\n",
       "              95.002,\n",
       "              95.47,\n",
       "              94.532,\n",
       "              94.845,\n",
       "              92.187,\n",
       "              94.063,\n",
       "              92.502,\n",
       "              94.532,\n",
       "              93.281,\n",
       "              94.062,\n",
       "              92.344,\n",
       "              92.498,\n",
       "              91.874,\n",
       "              92.188,\n",
       "              92.812,\n",
       "              93.749,\n",
       "              91.561,\n",
       "              95.0,\n",
       "              95.156,\n",
       "              93.905,\n",
       "              95.469,\n",
       "              92.812,\n",
       "              92.657,\n",
       "              93.751,\n",
       "              94.843,\n",
       "              94.221,\n",
       "              92.656],\n",
       "             8: [94.532,\n",
       "              93.907,\n",
       "              95.313,\n",
       "              94.063,\n",
       "              95.47,\n",
       "              93.594,\n",
       "              93.749,\n",
       "              93.125,\n",
       "              93.905,\n",
       "              94.844,\n",
       "              90.469,\n",
       "              94.845,\n",
       "              93.906,\n",
       "              93.437,\n",
       "              93.125,\n",
       "              91.404,\n",
       "              95.0,\n",
       "              95.782,\n",
       "              91.875,\n",
       "              93.594,\n",
       "              94.532,\n",
       "              93.593,\n",
       "              93.124,\n",
       "              95.783,\n",
       "              95.939,\n",
       "              95.783,\n",
       "              92.499,\n",
       "              95.939,\n",
       "              91.875,\n",
       "              95.469,\n",
       "              92.968,\n",
       "              95.469,\n",
       "              92.342,\n",
       "              93.595,\n",
       "              92.343,\n",
       "              92.187,\n",
       "              94.687,\n",
       "              93.749,\n",
       "              94.533,\n",
       "              95.938,\n",
       "              93.908,\n",
       "              93.28,\n",
       "              92.812,\n",
       "              95.156,\n",
       "              96.095,\n",
       "              92.187,\n",
       "              94.844,\n",
       "              92.344,\n",
       "              95.469,\n",
       "              95.156],\n",
       "             16: [94.22,\n",
       "              93.751,\n",
       "              91.407,\n",
       "              95.471,\n",
       "              95.47,\n",
       "              93.907,\n",
       "              94.687,\n",
       "              93.437,\n",
       "              93.126,\n",
       "              94.374,\n",
       "              95.158,\n",
       "              94.062,\n",
       "              95.469,\n",
       "              94.844,\n",
       "              95.155,\n",
       "              95.938,\n",
       "              93.594,\n",
       "              93.75,\n",
       "              92.343,\n",
       "              93.594,\n",
       "              96.251,\n",
       "              93.907,\n",
       "              93.124,\n",
       "              93.437,\n",
       "              93.593,\n",
       "              95.47,\n",
       "              94.532,\n",
       "              94.532,\n",
       "              96.251,\n",
       "              92.342,\n",
       "              92.968,\n",
       "              94.844,\n",
       "              93.594,\n",
       "              94.689,\n",
       "              92.187,\n",
       "              93.75,\n",
       "              95.783,\n",
       "              93.127,\n",
       "              95.625,\n",
       "              93.906,\n",
       "              93.906,\n",
       "              94.532,\n",
       "              93.283,\n",
       "              92.969,\n",
       "              95.158,\n",
       "              94.844,\n",
       "              92.343,\n",
       "              95.471,\n",
       "              93.593,\n",
       "              94.061],\n",
       "             32: [94.846,\n",
       "              92.187,\n",
       "              93.751,\n",
       "              95.156,\n",
       "              94.377,\n",
       "              93.907,\n",
       "              95.314,\n",
       "              95.159,\n",
       "              94.219,\n",
       "              92.814,\n",
       "              93.595,\n",
       "              96.094,\n",
       "              95.001,\n",
       "              93.904,\n",
       "              94.531,\n",
       "              92.655,\n",
       "              93.906,\n",
       "              90.623,\n",
       "              94.062,\n",
       "              94.844,\n",
       "              95.47,\n",
       "              93.125,\n",
       "              95.313,\n",
       "              94.689,\n",
       "              93.594,\n",
       "              92.812,\n",
       "              93.281,\n",
       "              94.688,\n",
       "              94.377,\n",
       "              95.001,\n",
       "              94.531,\n",
       "              94.532,\n",
       "              94.689,\n",
       "              93.906,\n",
       "              93.438,\n",
       "              94.062,\n",
       "              94.217,\n",
       "              94.063,\n",
       "              92.656,\n",
       "              94.063,\n",
       "              95.001,\n",
       "              94.531,\n",
       "              92.656,\n",
       "              94.688,\n",
       "              95.939,\n",
       "              92.498,\n",
       "              96.251,\n",
       "              95.312,\n",
       "              92.969,\n",
       "              93.437],\n",
       "             64: [94.532,\n",
       "              94.062,\n",
       "              94.376,\n",
       "              94.532,\n",
       "              92.655,\n",
       "              94.062,\n",
       "              94.218,\n",
       "              94.219,\n",
       "              95.001,\n",
       "              96.096,\n",
       "              93.751,\n",
       "              94.062,\n",
       "              92.031,\n",
       "              89.374,\n",
       "              92.81,\n",
       "              92.187,\n",
       "              95.001,\n",
       "              94.376,\n",
       "              94.065,\n",
       "              96.721,\n",
       "              92.498,\n",
       "              95.469,\n",
       "              92.187,\n",
       "              95.314,\n",
       "              95.001,\n",
       "              96.251,\n",
       "              93.751,\n",
       "              96.407,\n",
       "              93.907,\n",
       "              93.749,\n",
       "              95.627,\n",
       "              94.218,\n",
       "              95.001,\n",
       "              93.124,\n",
       "              93.906,\n",
       "              93.125,\n",
       "              95.002,\n",
       "              94.061,\n",
       "              95.314,\n",
       "              95.001,\n",
       "              95.0,\n",
       "              94.219,\n",
       "              93.906,\n",
       "              94.218,\n",
       "              93.438,\n",
       "              93.907,\n",
       "              95.157,\n",
       "              94.532,\n",
       "              94.376,\n",
       "              94.375]})"
      ]
     },
     "execution_count": 39,
     "metadata": {},
     "output_type": "execute_result"
    }
   ],
   "source": [
    "dev_success"
   ]
  },
  {
   "cell_type": "code",
   "execution_count": 40,
   "metadata": {
    "collapsed": false
   },
   "outputs": [
    {
     "name": "stdout",
     "output_type": "stream",
     "text": [
      "[50, 50, 50, 50, 50, 50, 50, 50]\n",
      "[50, 50, 50, 50, 50, 50, 50, 50]\n"
     ]
    }
   ],
   "source": [
    "print([len(xs) for xs in dev_success.values()])\n",
    "print([len(xs) for xs in pt_success.values()])"
   ]
  },
  {
   "cell_type": "code",
   "execution_count": 41,
   "metadata": {
    "collapsed": true
   },
   "outputs": [],
   "source": [
    "keys = sorted(dev_success.keys())"
   ]
  },
  {
   "cell_type": "code",
   "execution_count": 42,
   "metadata": {
    "collapsed": true
   },
   "outputs": [],
   "source": [
    "dev_success = np.array([dev_success[key] for key in keys])\n",
    "pt_success = np.array([pt_success[key] for key in keys])"
   ]
  },
  {
   "cell_type": "code",
   "execution_count": 43,
   "metadata": {
    "collapsed": false
   },
   "outputs": [
    {
     "data": {
      "text/plain": [
       "(8, 50)"
      ]
     },
     "execution_count": 43,
     "metadata": {},
     "output_type": "execute_result"
    }
   ],
   "source": [
    "dev_success.shape"
   ]
  },
  {
   "cell_type": "code",
   "execution_count": 44,
   "metadata": {
    "collapsed": true
   },
   "outputs": [],
   "source": [
    "x_entries = [2 ** x for x in range(8)]"
   ]
  },
  {
   "cell_type": "code",
   "execution_count": 45,
   "metadata": {
    "collapsed": false
   },
   "outputs": [
    {
     "data": {
      "text/plain": [
       "<matplotlib.axes._subplots.AxesSubplot at 0x11fef3588>"
      ]
     },
     "execution_count": 45,
     "metadata": {},
     "output_type": "execute_result"
    },
    {
     "data": {
      "image/png": "[encoded data removed]",
      "text/plain": [
       "<matplotlib.figure.Figure at 0x11fd3b358>"
      ]
     },
     "metadata": {},
     "output_type": "display_data"
    }
   ],
   "source": [
    "ax = plt.subplot()\n",
    "ax.set_xlim(0, 64)\n",
    "ax.set_ylabel(\"FM dev success\")\n",
    "ax.set_xlabel(\"log_2 k\")\n",
    "ax.set_xscale(\"log\", basex=2)\n",
    "sns.tsplot(dev_success.T, time=x_entries, ax=ax)"
   ]
  },
  {
   "cell_type": "code",
   "execution_count": 46,
   "metadata": {
    "collapsed": false
   },
   "outputs": [
    {
     "data": {
      "text/plain": [
       "<matplotlib.axes._subplots.AxesSubplot at 0x11e9d8c88>"
      ]
     },
     "execution_count": 46,
     "metadata": {},
     "output_type": "execute_result"
    },
    {
     "data": {
      "image/png": "[encoded data removed]",
      "text/plain": [
       "<matplotlib.figure.Figure at 0x11fd79b38>"
      ]
     },
     "metadata": {},
     "output_type": "display_data"
    }
   ],
   "source": [
    "ax = plt.subplot()\n",
    "ax.set_xlim(0, 64)\n",
    "ax.set_ylabel(\"pre-train dev success\")\n",
    "ax.set_xlabel(\"log_2 k\")\n",
    "ax.set_xscale(\"log\", base=2)\n",
    "#ax.set_xticks(np.power(2, np.arange(8)))\n",
    "#ax.set_xticklabels([\"$2^%i$\" % x for x in range(8)])\n",
    "sns.tsplot(pt_success.T, time=x_entries, ax=ax)"
   ]
  },
  {
   "cell_type": "code",
   "execution_count": null,
   "metadata": {
    "collapsed": true
   },
   "outputs": [],
   "source": []
  }
 ],
 "metadata": {
  "anaconda-cloud": {},
  "kernelspec": {
   "display_name": "Python [conda root]",
   "language": "python",
   "name": "conda-root-py"
  },
  "language_info": {
   "codemirror_mode": {
    "name": "ipython",
    "version": 3
   },
   "file_extension": ".py",
   "mimetype": "text/x-python",
   "name": "python",
   "nbconvert_exporter": "python",
   "pygments_lexer": "ipython3",
   "version": "3.5.2"
  }
 },
 "nbformat": 4,
 "nbformat_minor": 1
}
